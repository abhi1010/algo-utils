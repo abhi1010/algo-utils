{
 "cells": [
  {
   "cell_type": "markdown",
   "metadata": {},
   "source": [
    "# A simple Mean Reversion System\n",
    "Most of the following imports are mainstream, well known Python libraries.\n",
    "\n",
    "alpha_vantage and fix_yahoo are specialist libraries to download stock data free.  To use alpha_vantage you will need to obtain your own key from the providers https://www.alphavantage.co/\n",
    "\n",
    "ffn is a specialist library to report trading systems statistics"
   ]
  },
  {
   "cell_type": "code",
   "execution_count": 49,
   "metadata": {},
   "outputs": [],
   "source": [
    "import numpy as np\n",
    "import matplotlib.pyplot as plt\n",
    "from matplotlib.pyplot import figure\n",
    "# %matplotlib notebook\n",
    "\n",
    "import pandas as pd\n",
    "from alpha_vantage.timeseries import TimeSeries\n",
    "import yfinance as yf\n",
    "#because the is_list_like is moved to pandas.api.types\n",
    "pd.core.common.is_list_like = pd.api.types.is_list_like\n",
    "import ffn\n",
    "#import pixiedust"
   ]
  },
  {
   "cell_type": "markdown",
   "metadata": {},
   "source": [
    "## The following two cells can be used to download stock data and then blanked out again once the data has been saved to csv.\n",
    "\n"
   ]
  },
  {
   "cell_type": "code",
   "execution_count": null,
   "metadata": {},
   "outputs": [
    {
     "name": "stdout",
     "output_type": "stream",
     "text": [
      "[*********************100%***********************]  1 of 1 completed\n"
     ]
    }
   ],
   "source": [
    "ts = TimeSeries(key='insert own key', output_format='pandas')\n",
    "data, meta_data = ts.get_daily_adjusted(symbol='SPY', outputsize='full')\n",
    "data = yf.download(\"SPY\", start=\"1970-01-01\", end=\"2018-12-08\", multi_level_index=False)"
   ]
  },
  {
   "cell_type": "markdown",
   "metadata": {},
   "source": [
    "## The following line is to create split adjusted Open prices since only the adjusted close is provided:\n",
    "\n",
    "data['Adj_Open']=data.Open*(data.Adj_Close/data.Close)\n",
    "\n",
    "Useful if you want to test taking signal from previous close and trading at the next open."
   ]
  },
  {
   "cell_type": "code",
   "execution_count": null,
   "metadata": {},
   "outputs": [
    {
     "data": {
      "text/html": [
       "<div>\n",
       "<style scoped>\n",
       "    .dataframe tbody tr th:only-of-type {\n",
       "        vertical-align: middle;\n",
       "    }\n",
       "\n",
       "    .dataframe tbody tr th {\n",
       "        vertical-align: top;\n",
       "    }\n",
       "\n",
       "    .dataframe thead th {\n",
       "        text-align: right;\n",
       "    }\n",
       "</style>\n",
       "<table border=\"1\" class=\"dataframe\">\n",
       "  <thead>\n",
       "    <tr style=\"text-align: right;\">\n",
       "      <th></th>\n",
       "      <th>Open</th>\n",
       "      <th>High</th>\n",
       "      <th>Low</th>\n",
       "      <th>Close</th>\n",
       "      <th>Adj_Close</th>\n",
       "      <th>Volume</th>\n",
       "      <th>Adj_Open</th>\n",
       "    </tr>\n",
       "    <tr>\n",
       "      <th>Date</th>\n",
       "      <th></th>\n",
       "      <th></th>\n",
       "      <th></th>\n",
       "      <th></th>\n",
       "      <th></th>\n",
       "      <th></th>\n",
       "      <th></th>\n",
       "    </tr>\n",
       "  </thead>\n",
       "  <tbody>\n",
       "    <tr>\n",
       "      <th>1993-01-29</th>\n",
       "      <td>43.96875</td>\n",
       "      <td>43.96875</td>\n",
       "      <td>43.75000</td>\n",
       "      <td>43.93750</td>\n",
       "      <td>25.029371</td>\n",
       "      <td>1003200</td>\n",
       "      <td>25.047173</td>\n",
       "    </tr>\n",
       "    <tr>\n",
       "      <th>1993-02-01</th>\n",
       "      <td>43.96875</td>\n",
       "      <td>44.25000</td>\n",
       "      <td>43.96875</td>\n",
       "      <td>44.25000</td>\n",
       "      <td>25.207390</td>\n",
       "      <td>480500</td>\n",
       "      <td>25.047173</td>\n",
       "    </tr>\n",
       "    <tr>\n",
       "      <th>1993-02-02</th>\n",
       "      <td>44.21875</td>\n",
       "      <td>44.37500</td>\n",
       "      <td>44.12500</td>\n",
       "      <td>44.34375</td>\n",
       "      <td>25.260790</td>\n",
       "      <td>201300</td>\n",
       "      <td>25.189583</td>\n",
       "    </tr>\n",
       "    <tr>\n",
       "      <th>1993-02-03</th>\n",
       "      <td>44.40625</td>\n",
       "      <td>44.84375</td>\n",
       "      <td>44.37500</td>\n",
       "      <td>44.81250</td>\n",
       "      <td>25.527822</td>\n",
       "      <td>529400</td>\n",
       "      <td>25.296399</td>\n",
       "    </tr>\n",
       "    <tr>\n",
       "      <th>1993-02-04</th>\n",
       "      <td>44.96875</td>\n",
       "      <td>45.09375</td>\n",
       "      <td>44.46875</td>\n",
       "      <td>45.00000</td>\n",
       "      <td>25.634634</td>\n",
       "      <td>531500</td>\n",
       "      <td>25.616832</td>\n",
       "    </tr>\n",
       "  </tbody>\n",
       "</table>\n",
       "</div>"
      ],
      "text/plain": [
       "                Open      High       Low     Close  Adj_Close   Volume  \\\n",
       "Date                                                                     \n",
       "1993-01-29  43.96875  43.96875  43.75000  43.93750  25.029371  1003200   \n",
       "1993-02-01  43.96875  44.25000  43.96875  44.25000  25.207390   480500   \n",
       "1993-02-02  44.21875  44.37500  44.12500  44.34375  25.260790   201300   \n",
       "1993-02-03  44.40625  44.84375  44.37500  44.81250  25.527822   529400   \n",
       "1993-02-04  44.96875  45.09375  44.46875  45.00000  25.634634   531500   \n",
       "\n",
       "             Adj_Open  \n",
       "Date                   \n",
       "1993-01-29  25.047173  \n",
       "1993-02-01  25.047173  \n",
       "1993-02-02  25.189583  \n",
       "1993-02-03  25.296399  \n",
       "1993-02-04  25.616832  "
      ]
     },
     "execution_count": 51,
     "metadata": {},
     "output_type": "execute_result"
    }
   ],
   "source": [
    "# data.rename(columns={'Adj Close': 'Adj_Close'}, inplace=True)\n",
    "data['Adj_Open']=data.Open*(data.Adj_Close/data.Close)\n",
    "data.to_csv('../data/samples/spy.csv')\n",
    "data.head()"
   ]
  },
  {
   "cell_type": "markdown",
   "metadata": {},
   "source": [
    "Chart the data to check there are no obvious problems with the split adjusted data."
   ]
  },
  {
   "cell_type": "code",
   "execution_count": 52,
   "metadata": {
    "scrolled": true
   },
   "outputs": [
    {
     "data": {
      "image/png": "[encoded data removed]",
      "text/plain": [
       "<Figure size 480x320 with 1 Axes>"
      ]
     },
     "metadata": {},
     "output_type": "display_data"
    }
   ],
   "source": [
    "pricing = pd.read_csv(\n",
    "    '../data/samples/spy.csv',\n",
    "    header=0,\n",
    "    parse_dates=[\"Date\"],\n",
    "    #index_col=0,\n",
    "    usecols=['Date','Adj_Open', 'Adj_Close'])\n",
    "figure(num=None, figsize=(6, 4), dpi=80, facecolor='w', edgecolor='k')\n",
    "plt.plot(pricing.Adj_Open, label='Spy Open')\n",
    "plt.plot(pricing.Adj_Close, label='Spy Close')\n",
    "plt.xlabel('Date')\n",
    "plt.ylabel('Price')\n",
    "plt.legend();"
   ]
  },
  {
   "cell_type": "markdown",
   "metadata": {},
   "source": [
    "## Visual inspection of the DataFrame. \n",
    "\n",
    "Adjust to see wider and different selection of rows.  e.g pricing.tail(10) shows \n",
    "the final ten rows of data. See 10 Minutes to Pandas https://pandas.pydata.org/pandas-docs/stable/10min.html \n",
    "or the Pandas Cheat Sheet https://pandas.pydata.org/Pandas_Cheat_Sheet.pdf"
   ]
  },
  {
   "cell_type": "code",
   "execution_count": 53,
   "metadata": {},
   "outputs": [
    {
     "data": {
      "text/html": [
       "<div>\n",
       "<style scoped>\n",
       "    .dataframe tbody tr th:only-of-type {\n",
       "        vertical-align: middle;\n",
       "    }\n",
       "\n",
       "    .dataframe tbody tr th {\n",
       "        vertical-align: top;\n",
       "    }\n",
       "\n",
       "    .dataframe thead th {\n",
       "        text-align: right;\n",
       "    }\n",
       "</style>\n",
       "<table border=\"1\" class=\"dataframe\">\n",
       "  <thead>\n",
       "    <tr style=\"text-align: right;\">\n",
       "      <th></th>\n",
       "      <th>Date</th>\n",
       "      <th>Adj_Close</th>\n",
       "      <th>Adj_Open</th>\n",
       "    </tr>\n",
       "  </thead>\n",
       "  <tbody>\n",
       "    <tr>\n",
       "      <th>0</th>\n",
       "      <td>1993-01-29</td>\n",
       "      <td>25.029371</td>\n",
       "      <td>25.047173</td>\n",
       "    </tr>\n",
       "    <tr>\n",
       "      <th>1</th>\n",
       "      <td>1993-02-01</td>\n",
       "      <td>25.207390</td>\n",
       "      <td>25.047173</td>\n",
       "    </tr>\n",
       "    <tr>\n",
       "      <th>2</th>\n",
       "      <td>1993-02-02</td>\n",
       "      <td>25.260790</td>\n",
       "      <td>25.189583</td>\n",
       "    </tr>\n",
       "    <tr>\n",
       "      <th>3</th>\n",
       "      <td>1993-02-03</td>\n",
       "      <td>25.527822</td>\n",
       "      <td>25.296399</td>\n",
       "    </tr>\n",
       "    <tr>\n",
       "      <th>4</th>\n",
       "      <td>1993-02-04</td>\n",
       "      <td>25.634634</td>\n",
       "      <td>25.616832</td>\n",
       "    </tr>\n",
       "  </tbody>\n",
       "</table>\n",
       "</div>"
      ],
      "text/plain": [
       "        Date  Adj_Close   Adj_Open\n",
       "0 1993-01-29  25.029371  25.047173\n",
       "1 1993-02-01  25.207390  25.047173\n",
       "2 1993-02-02  25.260790  25.189583\n",
       "3 1993-02-03  25.527822  25.296399\n",
       "4 1993-02-04  25.634634  25.616832"
      ]
     },
     "execution_count": 53,
     "metadata": {},
     "output_type": "execute_result"
    }
   ],
   "source": [
    "pricing.head()"
   ]
  },
  {
   "cell_type": "markdown",
   "metadata": {},
   "source": [
    "## Shift the Adjusted Close down one row \n",
    "\n",
    "so that it aligns with the next day's Adjusted Open.  That way we can calculate the signals using the previous day's Close and enter the trade on the next day's Open"
   ]
  },
  {
   "cell_type": "code",
   "execution_count": 54,
   "metadata": {},
   "outputs": [
    {
     "data": {
      "text/html": [
       "<div>\n",
       "<style scoped>\n",
       "    .dataframe tbody tr th:only-of-type {\n",
       "        vertical-align: middle;\n",
       "    }\n",
       "\n",
       "    .dataframe tbody tr th {\n",
       "        vertical-align: top;\n",
       "    }\n",
       "\n",
       "    .dataframe thead th {\n",
       "        text-align: right;\n",
       "    }\n",
       "</style>\n",
       "<table border=\"1\" class=\"dataframe\">\n",
       "  <thead>\n",
       "    <tr style=\"text-align: right;\">\n",
       "      <th></th>\n",
       "      <th>Date</th>\n",
       "      <th>Adj_Close</th>\n",
       "      <th>Adj_Open</th>\n",
       "    </tr>\n",
       "  </thead>\n",
       "  <tbody>\n",
       "    <tr>\n",
       "      <th>6508</th>\n",
       "      <td>2018-11-30</td>\n",
       "      <td>252.931641</td>\n",
       "      <td>252.774643</td>\n",
       "    </tr>\n",
       "    <tr>\n",
       "      <th>6509</th>\n",
       "      <td>2018-12-03</td>\n",
       "      <td>254.473282</td>\n",
       "      <td>258.747556</td>\n",
       "    </tr>\n",
       "    <tr>\n",
       "      <th>6510</th>\n",
       "      <td>2018-12-04</td>\n",
       "      <td>257.842834</td>\n",
       "      <td>256.984402</td>\n",
       "    </tr>\n",
       "    <tr>\n",
       "      <th>6511</th>\n",
       "      <td>2018-12-06</td>\n",
       "      <td>249.488220</td>\n",
       "      <td>245.490923</td>\n",
       "    </tr>\n",
       "    <tr>\n",
       "      <th>6512</th>\n",
       "      <td>2018-12-07</td>\n",
       "      <td>249.109756</td>\n",
       "      <td>248.758885</td>\n",
       "    </tr>\n",
       "  </tbody>\n",
       "</table>\n",
       "</div>"
      ],
      "text/plain": [
       "           Date   Adj_Close    Adj_Open\n",
       "6508 2018-11-30  252.931641  252.774643\n",
       "6509 2018-12-03  254.473282  258.747556\n",
       "6510 2018-12-04  257.842834  256.984402\n",
       "6511 2018-12-06  249.488220  245.490923\n",
       "6512 2018-12-07  249.109756  248.758885"
      ]
     },
     "execution_count": 54,
     "metadata": {},
     "output_type": "execute_result"
    }
   ],
   "source": [
    "stock=pricing.copy()\n",
    "stock.Adj_Close=stock.Adj_Close.shift(1)\n",
    "\n",
    "stock.tail()"
   ]
  },
  {
   "cell_type": "markdown",
   "metadata": {},
   "source": [
    "## Create three or more separate blocks of data for testing. \n",
    "\n",
    "Reserve one of these for out of sample testing."
   ]
  },
  {
   "cell_type": "code",
   "execution_count": 55,
   "metadata": {},
   "outputs": [
    {
     "data": {
      "text/html": [
       "<div>\n",
       "<style scoped>\n",
       "    .dataframe tbody tr th:only-of-type {\n",
       "        vertical-align: middle;\n",
       "    }\n",
       "\n",
       "    .dataframe tbody tr th {\n",
       "        vertical-align: top;\n",
       "    }\n",
       "\n",
       "    .dataframe thead th {\n",
       "        text-align: right;\n",
       "    }\n",
       "</style>\n",
       "<table border=\"1\" class=\"dataframe\">\n",
       "  <thead>\n",
       "    <tr style=\"text-align: right;\">\n",
       "      <th></th>\n",
       "      <th>Date</th>\n",
       "      <th>Adj_Close</th>\n",
       "      <th>Adj_Open</th>\n",
       "    </tr>\n",
       "  </thead>\n",
       "  <tbody>\n",
       "    <tr>\n",
       "      <th>0</th>\n",
       "      <td>2001-09-04</td>\n",
       "      <td>75.441902</td>\n",
       "      <td>75.243630</td>\n",
       "    </tr>\n",
       "    <tr>\n",
       "      <th>1</th>\n",
       "      <td>2001-09-05</td>\n",
       "      <td>74.959442</td>\n",
       "      <td>75.144508</td>\n",
       "    </tr>\n",
       "    <tr>\n",
       "      <th>2</th>\n",
       "      <td>2001-09-06</td>\n",
       "      <td>75.144508</td>\n",
       "      <td>74.450536</td>\n",
       "    </tr>\n",
       "    <tr>\n",
       "      <th>3</th>\n",
       "      <td>2001-09-07</td>\n",
       "      <td>73.208038</td>\n",
       "      <td>72.712348</td>\n",
       "    </tr>\n",
       "    <tr>\n",
       "      <th>4</th>\n",
       "      <td>2001-09-10</td>\n",
       "      <td>71.853180</td>\n",
       "      <td>71.179093</td>\n",
       "    </tr>\n",
       "  </tbody>\n",
       "</table>\n",
       "</div>"
      ],
      "text/plain": [
       "        Date  Adj_Close   Adj_Open\n",
       "0 2001-09-04  75.441902  75.243630\n",
       "1 2001-09-05  74.959442  75.144508\n",
       "2 2001-09-06  75.144508  74.450536\n",
       "3 2001-09-07  73.208038  72.712348\n",
       "4 2001-09-10  71.853180  71.179093"
      ]
     },
     "execution_count": 55,
     "metadata": {},
     "output_type": "execute_result"
    }
   ],
   "source": [
    "stock_1=stock.iloc[0:2170].copy()\n",
    "stock_2=stock.iloc[2170:4342].copy().reset_index(drop=True)\n",
    "stock_3=stock.iloc[4342:6513].copy().reset_index(drop=True)\n",
    "stock_2.head()"
   ]
  },
  {
   "cell_type": "markdown",
   "metadata": {},
   "source": [
    "## Here is the code for the function which loops through the stock data and executes the trades.  \n",
    "\n",
    "You can experiment with different parameters such as changing the maximum position size or starting capital.\n",
    "\n",
    "Experiment with changing references:\n",
    "\n",
    "1.from both trading and signal generation at the Close; to \n",
    "\n",
    "2.signal generation at the Close but trading at the next Open. \n",
    "\n",
    "You will not be happy with the result suggesting you may need to automate trading to generate signals and trade intraday so you can execute a trade immediately a signal is given."
   ]
  },
  {
   "cell_type": "code",
   "execution_count": 56,
   "metadata": {
    "pixiedust": {
     "displayParams": {}
    }
   },
   "outputs": [],
   "source": [
    "# Trade using a simple mean-reversion strategy\n",
    "def trade(stock, length):\n",
    "\n",
    "    temp_dict = {}\n",
    "    # If window length is 0, algorithm doesn't make sense, so exit\n",
    "    if length == 0:\n",
    "        return 0\n",
    "\n",
    "    # Compute rolling means and rolling standard deviation\n",
    "    #sma and lma are filters to prevent taking long or short positions against the longer term trend\n",
    "    rolling_window = stock.Adj_Close.rolling(window=length)\n",
    "    mu = rolling_window.mean()\n",
    "    sma = stock.Adj_Close.rolling(window=length*1).mean()\n",
    "    lma = stock.Adj_Close.rolling(window=length * 10).mean()\n",
    "    std = rolling_window.std()\n",
    "\n",
    "    #If you don't use a maximum position size the positions will keep on pyramidding.\n",
    "    #Set max_position to a high number (1000?) to disable this parameter\n",
    "    #Need to beware of unintended leverage\n",
    "    max_position = 1\n",
    "    percent_per_trade = 1.0\n",
    "\n",
    "    #Slippage and commission adjustment  - simply reduces equity by a percentage guess\n",
    "    # a setting of 1 means no slippage, a setting of 0.999 gives 0.1% slippage\n",
    "    slippage_adj = 1\n",
    "\n",
    "    # Compute the z-scores for each day using the historical data up to that day\n",
    "    zscores = (stock.Adj_Close - mu) / std\n",
    "\n",
    "    # Simulate trading\n",
    "    # Start with your chosen starting capital and no positions\n",
    "    money = 1000.00\n",
    "    position_count = 0\n",
    "\n",
    "    for i, row in enumerate(stock.itertuples(), 0):\n",
    "\n",
    "        #set up position size so that each position is a fixed position of your account equity\n",
    "        equity = money + (stock.Adj_Close[i] * position_count)\n",
    "        if equity > 0:\n",
    "            fixed_frac = (equity * percent_per_trade) / stock.Adj_Close[i]\n",
    "        else:\n",
    "            fixed_frac = 0\n",
    "        fixed_frac = int(round(fixed_frac))\n",
    "\n",
    "        #exit all positions if zscore flips from positive to negative or vice versa without going through\n",
    "        #the neutral zone\n",
    "        if i > 0:\n",
    "            if (zscores[i - 1] > 0.5\n",
    "                    and zscores[i] < -0.5) or (zscores[i - 1] < -0.5\n",
    "                                               and zscores[i] > 0.5):\n",
    "\n",
    "                if position_count > 0:\n",
    "                    money += position_count * stock.Adj_Close[i] * slippage_adj\n",
    "                elif position_count < 0:\n",
    "                    money += position_count * stock.Adj_Close[i] * (\n",
    "                        1 / slippage_adj)\n",
    "                position_count = 0\n",
    "\n",
    "        # Sell short if the z-score is > 1 and if the longer term trend is negative\n",
    "        if (zscores[i] > 1) & (position_count > max_position * -1) & (sma[i] <\n",
    "                                                                      lma[i]):\n",
    "\n",
    "            position_count -= fixed_frac\n",
    "            money += fixed_frac * stock.Adj_Close[i] * slippage_adj\n",
    "\n",
    "        # Buy long if the z-score is < 1 and the longer term trend is positive\n",
    "        elif zscores[i] < -1 and position_count < max_position and sma[i] > lma[i]:\n",
    "\n",
    "            position_count += fixed_frac\n",
    "            money -= fixed_frac * stock.Adj_Close[i] * (1 / slippage_adj)\n",
    "\n",
    "        # Clear positions if the z-score between -.5 and .5\n",
    "        elif abs(zscores[i]) < 0.5:\n",
    "            #money += position_count * stock.Adj_Close[i]\n",
    "            if position_count > 0:\n",
    "                money += position_count * stock.Adj_Close[i] * slippage_adj\n",
    "            elif position_count < 0:\n",
    "                money += position_count * stock.Adj_Close[i] * (\n",
    "                    1 / slippage_adj)\n",
    "            position_count = 0\n",
    "\n",
    "        #fill dictionary with the trading results.\n",
    "        temp_dict[stock.Date[i]] = [\n",
    "            stock.Adj_Open[i], stock.Adj_Close[i], mu[i], std[i], zscores[i],\n",
    "            money, position_count, fixed_frac, sma[i], lma[i]\n",
    "        ]\n",
    "    #create a dataframe to return for use in calculating and charting the trading results\n",
    "    pr = pd.DataFrame(data=temp_dict).T\n",
    "    pr.index.name = 'Date'\n",
    "    pr.index = pd.to_datetime(pr.index)\n",
    "    pr.columns = [\n",
    "        'Open', 'Close', 'mu', 'std', 'zscores', 'money', 'position_count',\n",
    "        'fixed_frac', 'sma', 'lma'\n",
    "    ]\n",
    "    pr['equity'] = pr.money + (pr.Close * pr.position_count)\n",
    "    #\n",
    "    return pr"
   ]
  },
  {
   "cell_type": "markdown",
   "metadata": {},
   "source": [
    "## The next cell calls the function. \n",
    "\n",
    "Experiment with different moving averages by altering the number in brackets.\n",
    "\n",
    "profit = trade(stock, moving_average) runs the back test with the entire price series\n",
    "profit = trade(stock_1, moving_average) runs the test using only the first third of the data and so forth through \n",
    "stock_2 and stock_3\n",
    "\n",
    "You will need to amend the function \"profit.to_csv\" to your own raletive or absolute file address"
   ]
  },
  {
   "cell_type": "code",
   "execution_count": 57,
   "metadata": {
    "pixiedust": {
     "displayParams": {}
    }
   },
   "outputs": [],
   "source": [
    "moving_average = 10\n",
    "profit = trade(stock, moving_average)\n",
    "profit.to_csv('../data/mean_reversion_profit.csv')"
   ]
  },
  {
   "cell_type": "markdown",
   "metadata": {},
   "source": [
    "## Inspect the reults data frame"
   ]
  },
  {
   "cell_type": "code",
   "execution_count": 58,
   "metadata": {},
   "outputs": [
    {
     "data": {
      "text/html": [
       "<div>\n",
       "<style scoped>\n",
       "    .dataframe tbody tr th:only-of-type {\n",
       "        vertical-align: middle;\n",
       "    }\n",
       "\n",
       "    .dataframe tbody tr th {\n",
       "        vertical-align: top;\n",
       "    }\n",
       "\n",
       "    .dataframe thead th {\n",
       "        text-align: right;\n",
       "    }\n",
       "</style>\n",
       "<table border=\"1\" class=\"dataframe\">\n",
       "  <thead>\n",
       "    <tr style=\"text-align: right;\">\n",
       "      <th></th>\n",
       "      <th>Open</th>\n",
       "      <th>Close</th>\n",
       "      <th>mu</th>\n",
       "      <th>std</th>\n",
       "      <th>zscores</th>\n",
       "      <th>money</th>\n",
       "      <th>position_count</th>\n",
       "      <th>fixed_frac</th>\n",
       "      <th>sma</th>\n",
       "      <th>lma</th>\n",
       "      <th>equity</th>\n",
       "    </tr>\n",
       "    <tr>\n",
       "      <th>Date</th>\n",
       "      <th></th>\n",
       "      <th></th>\n",
       "      <th></th>\n",
       "      <th></th>\n",
       "      <th></th>\n",
       "      <th></th>\n",
       "      <th></th>\n",
       "      <th></th>\n",
       "      <th></th>\n",
       "      <th></th>\n",
       "      <th></th>\n",
       "    </tr>\n",
       "  </thead>\n",
       "  <tbody>\n",
       "    <tr>\n",
       "      <th>2018-11-30</th>\n",
       "      <td>252.774643</td>\n",
       "      <td>252.931641</td>\n",
       "      <td>248.583485</td>\n",
       "      <td>4.001357</td>\n",
       "      <td>1.086670</td>\n",
       "      <td>15783.430552</td>\n",
       "      <td>-31.0</td>\n",
       "      <td>31.0</td>\n",
       "      <td>248.583485</td>\n",
       "      <td>259.046908</td>\n",
       "      <td>7942.549692</td>\n",
       "    </tr>\n",
       "    <tr>\n",
       "      <th>2018-12-03</th>\n",
       "      <td>258.747556</td>\n",
       "      <td>254.473282</td>\n",
       "      <td>248.826274</td>\n",
       "      <td>4.297456</td>\n",
       "      <td>1.314035</td>\n",
       "      <td>15783.430552</td>\n",
       "      <td>-31.0</td>\n",
       "      <td>31.0</td>\n",
       "      <td>248.826274</td>\n",
       "      <td>259.047255</td>\n",
       "      <td>7894.758814</td>\n",
       "    </tr>\n",
       "    <tr>\n",
       "      <th>2018-12-04</th>\n",
       "      <td>256.984402</td>\n",
       "      <td>257.842834</td>\n",
       "      <td>249.340469</td>\n",
       "      <td>5.053656</td>\n",
       "      <td>1.682419</td>\n",
       "      <td>15783.430552</td>\n",
       "      <td>-31.0</td>\n",
       "      <td>30.0</td>\n",
       "      <td>249.340469</td>\n",
       "      <td>259.058230</td>\n",
       "      <td>7790.302683</td>\n",
       "    </tr>\n",
       "    <tr>\n",
       "      <th>2018-12-06</th>\n",
       "      <td>245.490923</td>\n",
       "      <td>249.488220</td>\n",
       "      <td>249.446634</td>\n",
       "      <td>5.043465</td>\n",
       "      <td>0.008246</td>\n",
       "      <td>8049.295725</td>\n",
       "      <td>0.0</td>\n",
       "      <td>32.0</td>\n",
       "      <td>249.446634</td>\n",
       "      <td>258.983637</td>\n",
       "      <td>8049.295725</td>\n",
       "    </tr>\n",
       "    <tr>\n",
       "      <th>2018-12-07</th>\n",
       "      <td>248.758885</td>\n",
       "      <td>249.109756</td>\n",
       "      <td>249.974695</td>\n",
       "      <td>4.651138</td>\n",
       "      <td>-0.185963</td>\n",
       "      <td>8049.295725</td>\n",
       "      <td>0.0</td>\n",
       "      <td>32.0</td>\n",
       "      <td>249.974695</td>\n",
       "      <td>258.907558</td>\n",
       "      <td>8049.295725</td>\n",
       "    </tr>\n",
       "  </tbody>\n",
       "</table>\n",
       "</div>"
      ],
      "text/plain": [
       "                  Open       Close          mu       std   zscores  \\\n",
       "Date                                                                 \n",
       "2018-11-30  252.774643  252.931641  248.583485  4.001357  1.086670   \n",
       "2018-12-03  258.747556  254.473282  248.826274  4.297456  1.314035   \n",
       "2018-12-04  256.984402  257.842834  249.340469  5.053656  1.682419   \n",
       "2018-12-06  245.490923  249.488220  249.446634  5.043465  0.008246   \n",
       "2018-12-07  248.758885  249.109756  249.974695  4.651138 -0.185963   \n",
       "\n",
       "                   money  position_count  fixed_frac         sma         lma  \\\n",
       "Date                                                                           \n",
       "2018-11-30  15783.430552           -31.0        31.0  248.583485  259.046908   \n",
       "2018-12-03  15783.430552           -31.0        31.0  248.826274  259.047255   \n",
       "2018-12-04  15783.430552           -31.0        30.0  249.340469  259.058230   \n",
       "2018-12-06   8049.295725             0.0        32.0  249.446634  258.983637   \n",
       "2018-12-07   8049.295725             0.0        32.0  249.974695  258.907558   \n",
       "\n",
       "                 equity  \n",
       "Date                     \n",
       "2018-11-30  7942.549692  \n",
       "2018-12-03  7894.758814  \n",
       "2018-12-04  7790.302683  \n",
       "2018-12-06  8049.295725  \n",
       "2018-12-07  8049.295725  "
      ]
     },
     "execution_count": 58,
     "metadata": {},
     "output_type": "execute_result"
    }
   ],
   "source": [
    "profit.tail()"
   ]
  },
  {
   "cell_type": "markdown",
   "metadata": {},
   "source": [
    "## Create a new dataframe \n",
    "\n",
    "which contains trhe equity curve as its only column to feed to FFN the stats library"
   ]
  },
  {
   "cell_type": "code",
   "execution_count": 59,
   "metadata": {},
   "outputs": [],
   "source": [
    "series=profit[['equity']].copy()"
   ]
  },
  {
   "cell_type": "markdown",
   "metadata": {},
   "source": [
    "## Stats and Charts\n",
    "\n",
    "The following charts and stats are allproduced by the FFN Library"
   ]
  },
  {
   "cell_type": "code",
   "execution_count": 60,
   "metadata": {},
   "outputs": [
    {
     "name": "stdout",
     "output_type": "stream",
     "text": [
      "Stat                 equity\n",
      "-------------------  ----------\n",
      "Start                1993-02-01\n",
      "End                  2018-12-07\n",
      "Risk-free rate       0.00%\n",
      "\n",
      "Total Return         704.93%\n",
      "Daily Sharpe         0.85\n",
      "Daily Sortino        1.33\n",
      "CAGR                 8.40%\n",
      "Max Drawdown         -14.53%\n",
      "Calmar Ratio         0.58\n",
      "\n",
      "MTD                  1.34%\n",
      "3m                   -0.86%\n",
      "6m                   -1.37%\n",
      "YTD                  -4.59%\n",
      "1Y                   -4.59%\n",
      "3Y (ann.)            1.69%\n",
      "5Y (ann.)            3.66%\n",
      "10Y (ann.)           7.93%\n",
      "Since Incep. (ann.)  8.40%\n",
      "\n",
      "Daily Sharpe         0.85\n",
      "Daily Sortino        1.33\n",
      "Daily Mean (ann.)    8.58%\n",
      "Daily Vol (ann.)     10.10%\n",
      "Daily Skew           0.40\n",
      "Daily Kurt           24.96\n",
      "Best Day             8.86%\n",
      "Worst Day            -7.35%\n",
      "\n",
      "Monthly Sharpe       1.06\n",
      "Monthly Sortino      1.96\n",
      "Monthly Mean (ann.)  8.41%\n",
      "Monthly Vol (ann.)   7.93%\n",
      "Monthly Skew         0.30\n",
      "Monthly Kurt         7.28\n",
      "Best Month           15.68%\n",
      "Worst Month          -9.59%\n",
      "\n",
      "Yearly Sharpe        0.82\n",
      "Yearly Sortino       9.60\n",
      "Yearly Mean          8.82%\n",
      "Yearly Vol           10.70%\n",
      "Yearly Skew          1.95\n",
      "Yearly Kurt          4.70\n",
      "Best Year            44.17%\n",
      "Worst Year           -4.59%\n",
      "\n",
      "Avg. Drawdown        -2.43%\n",
      "Avg. Drawdown Days   46.52\n",
      "Avg. Up Month        1.86%\n",
      "Avg. Down Month      -1.36%\n",
      "Win Year %           76.00%\n",
      "Win 12m %            86.67%\n"
     ]
    }
   ],
   "source": [
    "stats = series.calc_stats()\n",
    "stats.display()"
   ]
  },
  {
   "cell_type": "code",
   "execution_count": 61,
   "metadata": {},
   "outputs": [
    {
     "data": {
      "image/png": "[encoded data removed]",
      "text/plain": [
       "<Figure size 1080x576 with 1 Axes>"
      ]
     },
     "metadata": {},
     "output_type": "display_data"
    }
   ],
   "source": [
    "prices =series\n",
    "ax = stats.prices.to_drawdown_series().plot(figsize=(15, 8),title='Drawdown')"
   ]
  },
  {
   "cell_type": "code",
   "execution_count": 62,
   "metadata": {},
   "outputs": [
    {
     "data": {
      "image/png": "[encoded data removed]",
      "text/plain": [
       "<Figure size 1080x576 with 1 Axes>"
      ]
     },
     "metadata": {},
     "output_type": "display_data"
    }
   ],
   "source": [
    "ax = prices.plot(logy=True,figsize=(15, 8),title='Equity Curve')"
   ]
  },
  {
   "cell_type": "code",
   "execution_count": null,
   "metadata": {},
   "outputs": [],
   "source": []
  },
  {
   "cell_type": "code",
   "execution_count": null,
   "metadata": {},
   "outputs": [],
   "source": []
  }
 ],
 "metadata": {
  "celltoolbar": "Raw Cell Format",
  "kernelspec": {
   "display_name": "Python 3",
   "language": "python",
   "name": "python3"
  },
  "language_info": {
   "codemirror_mode": {
    "name": "ipython",
    "version": 3
   },
   "file_extension": ".py",
   "mimetype": "text/x-python",
   "name": "python",
   "nbconvert_exporter": "python",
   "pygments_lexer": "ipython3",
   "version": "3.10.12"
  }
 },
 "nbformat": 4,
 "nbformat_minor": 2
}
