{
 "cells": [
  {
   "cell_type": "code",
   "execution_count": 5,
   "metadata": {},
   "outputs": [],
   "source": [
    "import os, sys, re\n",
    "import numpy as np\n",
    "import pandas\n",
    "import matplotlib.pyplot as plt"
   ]
  },
  {
   "cell_type": "markdown",
   "metadata": {},
   "source": [
    "## Remember to run `python download_fpi_2.py` file before this"
   ]
  },
  {
   "cell_type": "code",
   "execution_count": 6,
   "metadata": {},
   "outputs": [],
   "source": [
    "DATA_DIR = 'data/fpi-data'"
   ]
  },
  {
   "cell_type": "code",
   "execution_count": 7,
   "metadata": {},
   "outputs": [],
   "source": [
    "def get_files():\n",
    "    files = os.listdir(DATA_DIR)\n",
    "    files = [os.path.join(DATA_DIR, f) for f in files if re.search(r'\\.csv$', f)]\n",
    "    files.sort(reverse=True)\n",
    "    return files\n",
    "\n"
   ]
  },
  {
   "cell_type": "code",
   "execution_count": 8,
   "metadata": {},
   "outputs": [],
   "source": [
    "def get_df(csv_file_path):\n",
    "    df = pandas.read_csv(csv_file_path, index_col=0)\n",
    "    return df\n",
    "\n",
    "def get_date_by_filename(csv_file_path):\n",
    "    filename = os.path.basename(csv_file_path)\n",
    "    date = re.search(r'(\\d{4}-\\d{2}-\\d{2})', filename).group(1)\n",
    "    return date\n"
   ]
  },
  {
   "cell_type": "code",
   "execution_count": 9,
   "metadata": {},
   "outputs": [],
   "source": [
    "\n",
    "def get_cleaned_df(csv_file_to_read):\n",
    "  df  = get_df(csv_file_to_read)\n",
    "  file_date = get_date_by_filename(csv_file_to_read)\n",
    "  # print(f'Columns = {df.columns}')\n",
    "  # print(f'FILE = {csv_file_to_read}')\n",
    "  # df['Sectors']\n",
    "  df[file_date] = df['Equity.6']\n",
    "  df = df.drop([df.index[1] , df.index[2]])\n",
    "\n",
    "\n",
    "  for col in df.columns:\n",
    "    # print(f'col = {col}')\n",
    "    if col not in [ 'Sectors', file_date]:\n",
    "      # print(f'Sectors = {col}')\n",
    "      df.drop(col, inplace=True, axis=1)\n",
    "  df.set_index('Sectors', inplace=True)\n",
    "  return df\n"
   ]
  },
  {
   "cell_type": "code",
   "execution_count": 10,
   "metadata": {},
   "outputs": [],
   "source": [
    "class FPI_Analysis:\n",
    "  def __init__(self, csv_file_to_read):\n",
    "    self.file = csv_file_to_read\n",
    "    self.df = get_cleaned_df(csv_file_to_read)\n",
    "    self.date = get_date_by_filename(csv_file_to_read)\n",
    "    self.df_by_sector = self.df.groupby(level=0)\n",
    "    self.df_by_sector_mean = self.df_by_sector.mean()\n",
    "    self.df_by_sector_std = self.df_by_sector.std()\n",
    "    \n",
    "  def __str__(self):\n",
    "    return f'FPI: File: {self.file}; date={self.date}; df = \\n{self.df}'\n",
    "\n",
    "\n",
    "# df = get_cleaned_df(files[0])\n",
    "# print(f'df = \\n\\n{df}')"
   ]
  },
  {
   "cell_type": "code",
   "execution_count": 11,
   "metadata": {},
   "outputs": [],
   "source": [
    "\n",
    "def merge_all_dataframes(fpis):\n",
    "  df = pandas.DataFrame()\n",
    "  for f in fpis:\n",
    "    df = df.join(f.df, how='outer')\n",
    "  return df\n",
    "\n"
   ]
  },
  {
   "cell_type": "code",
   "execution_count": 12,
   "metadata": {},
   "outputs": [],
   "source": [
    "def save_df_to_csv(df, merged_csv_path_name):\n",
    "  df.to_csv(merged_csv_path_name)"
   ]
  },
  {
   "cell_type": "code",
   "execution_count": 15,
   "metadata": {},
   "outputs": [
    {
     "name": "stdout",
     "output_type": "stream",
     "text": [
      "files = ['data/fpi-data/fpi-2022-05-31.csv', 'data/fpi-data/fpi-2022-05-15.csv', 'data/fpi-data/fpi-2022-04-30.csv', 'data/fpi-data/fpi-2022-04-15.csv', 'data/fpi-data/fpi-2022-03-31.csv', 'data/fpi-data/fpi-2022-03-15.csv', 'data/fpi-data/fpi-2022-02-28.csv', 'data/fpi-data/fpi-2022-02-15.csv', 'data/fpi-data/fpi-2022-01-31.csv', 'data/fpi-data/fpi-2022-01-15.csv']\n",
      "merged_df = \n",
      "\n",
      "                                  2022-05-31 2022-05-15 2022-04-30 2022-04-15 2022-03-31 2022-03-15 2022-02-28 2022-02-15 2022-01-31 2022-01-15\n",
      "Sectors                                                                                                                                        \n",
      "Airlines                                 NaN        NaN        NaN      12961      13772      12398      13095      15455      13143      15516\n",
      "Airport Services                         NaN        NaN        NaN       6500       6164       6204       6189       6715       6966       7484\n",
      "Automobile and Auto Components        228813     206363     221576        NaN        NaN        NaN        NaN        NaN        NaN        NaN\n",
      "Automobiles & Auto Components            NaN        NaN        NaN     187788     183254     174340     192841     206795     209195     207451\n",
      "Banks                                    NaN        NaN        NaN     820536     797471     769090     813917     855653     849179     866670\n",
      "Capital Goods                          94510      87430      97186     146080     142313     137306     145593     152536     157971     165010\n",
      "Chemicals                              97732      92336     102913        NaN        NaN        NaN        NaN        NaN        NaN        NaN\n",
      "Chemicals & Petrochemicals               NaN        NaN        NaN      88596      86729      80961      76958      81710      83920      90563\n",
      "Coal                                     NaN        NaN        NaN       7953       8004       7439       7358       7180       6912       6841\n",
      "Commercial Services & Supplies           NaN        NaN        NaN      48340      44103      38473      37773      40629      39956      42862\n",
      "Construction                           54644      51600      57832        NaN        NaN        NaN        NaN        NaN        NaN        NaN\n",
      "Construction Materials                 70495      71862      79797      81101      76120      72561      81145      89911      90271      97995\n",
      "Consumer Durables                     160593     163339     182883     128255     124693     120789     130664     132628     132957     145186\n",
      "Consumer Services                     102462      90377     110503        NaN        NaN        NaN        NaN        NaN        NaN        NaN\n",
      "Diversified                             1469       1399       1608        NaN        NaN        NaN        NaN        NaN        NaN        NaN\n",
      "Diversified Consumer Services            NaN        NaN        NaN       6647       6760       6113       6360       6343       6985       7178\n",
      "Diversified2                             NaN        NaN        NaN      16370      16559      14814      14900      15543      14881      16294\n",
      "Fast Moving Consumer Goods            278116     267224     277854        NaN        NaN        NaN        NaN        NaN        NaN        NaN\n",
      "Financial Services                   1394240    1305823    1423537        NaN        NaN        NaN        NaN        NaN        NaN        NaN\n",
      "Food & Drugs Retailing                   NaN        NaN        NaN        353        365        345        385        392        433        460\n",
      "Food Beverages & Tobacco                 NaN        NaN        NaN     136360     127877     122056     118455     120466     121968     126831\n",
      "Forest Materials                        1191       1060       1229       2865       2836       2447       2193       2195       2237       2385\n",
      "General Industrials                      NaN        NaN        NaN      38225      36122      34461      35218      36649      38862      41919\n",
      "Hardware Technology & Equipment          NaN        NaN        NaN         90         87         78         78         87         96        105\n",
      "Healthcare                            206172     204237     226067        NaN        NaN        NaN        NaN        NaN        NaN        NaN\n",
      "Healthcare Equipment & Supplies          NaN        NaN        NaN       1858       1884       1632       1584       1563       1805       1886\n",
      "Healthcare Services                      NaN        NaN        NaN      62024      57513      58649      58171      58672      58816      67820\n",
      "Hotels Restaurants & Tourism             NaN        NaN        NaN      30196      29349      26933      29971      31785      34225      38033\n",
      "Household & Personal Products            NaN        NaN        NaN     139767     132967     134732     142949     148630     149290     156494\n",
      "Information Technology                545067     555811     591906        NaN        NaN        NaN        NaN        NaN        NaN        NaN\n",
      "Insurance                                NaN        NaN        NaN     101052      96512      91225      96240     103454     113983     120801\n",
      "Logistics                                NaN        NaN        NaN       3297       3161       2252       2254       2448       3327       3642\n",
      "Marine Port & Services                   NaN        NaN        NaN      26794      24158      22984      23079      23724      23617      25684\n",
      "Media                                    NaN        NaN        NaN      19667      20775      18613      17467      20238      21637      23512\n",
      "Media Entertainment & Publication      21250      20283      22075        NaN        NaN        NaN        NaN        NaN        NaN        NaN\n",
      "Metals & Mining                       134022     134477     162166     129292     126792     116478     115121     111365     101487     106754\n",
      "Oil & Gas                                NaN        NaN        NaN     532586     533125     478572     479755     496673     499576     525389\n",
      "Oil Gas & Consumable Fuels            555923     522715     588240        NaN        NaN        NaN        NaN        NaN        NaN        NaN\n",
      "Other Financial Services1                NaN        NaN        NaN     576473     569140     533894     564243     577650     607799     659324\n",
      "Others                                 10425      10152      11227        NaN        NaN        NaN        NaN        NaN        NaN        NaN\n",
      "Others4                                  NaN        NaN        NaN      12385      12693      16725      15938      16925      17636      16383\n",
      "Pharmaceuticals & Biotechnology          NaN        NaN        NaN     165675     161649     157963     153432     159340     156935     167947\n",
      "Power                                 199855     204696     237667        NaN        NaN        NaN        NaN        NaN        NaN        NaN\n",
      "Real Estate Investment                   NaN        NaN        NaN          0          0          0          0          0          0          0\n",
      "Realty                                 52991      49873      57853      60843      60751      55259      57520      59887      64304      68980\n",
      "Retailing                                NaN        NaN        NaN      83506      80601      79877      80639      81293      83304      98778\n",
      "Roads & Highways                         NaN        NaN        NaN       2084       2067       1904       1988       2238       2301       2422\n",
      "Services                               72431      64993      74645        NaN        NaN        NaN        NaN        NaN        NaN        NaN\n",
      "Shipping                                 NaN        NaN        NaN       1510       1413       1396       1299       1281       1306       1323\n",
      "Software & Services                      NaN        NaN        NaN     655965     689838     665220     641185     669891     674361     761570\n",
      "Sovereign                                  0          0          0          0          0          0          0          0          0          0\n",
      "Surface Transportation                   NaN        NaN        NaN        142        124        117        125        127        138        152\n",
      "Telecom Services                         NaN        NaN        NaN     117487     118186     109836     108790     115172     117878     120735\n",
      "Telecommunication                     108740     105874     115643        NaN        NaN        NaN        NaN        NaN        NaN        NaN\n",
      "Telecommunications Equipment             NaN        NaN        NaN        789        779        739        738        813        822        971\n",
      "Textiles                               20479      19201      21635        NaN        NaN        NaN        NaN        NaN        NaN        NaN\n",
      "Textiles Apparels & Accessories          NaN        NaN        NaN      75910      75713      75109      74662      75200      74072      80292\n",
      "Total  Financial Services                NaN        NaN        NaN    1397008    1366611    1302984    1378160    1433303    1456978    1525995\n",
      "Transport Related Services               NaN        NaN        NaN       9915       9787       8586       8825       8923       9752      10529\n",
      "Transportation                           NaN        NaN        NaN      63203      60647      55841      56854      60911      60550      66751\n",
      "Utilities                                372        346        413        NaN        NaN        NaN        NaN        NaN        NaN        NaN\n",
      "Utilities3                               NaN        NaN        NaN     250902     208308     195707     195759     190683     196674     191229\n",
      "File saved: data/fpi-data/merged_fpi_data.csv\n"
     ]
    }
   ],
   "source": [
    "unfiltered_files = get_files()\n",
    "files = [f for f in unfiltered_files if 'merged_fpi_data' not in f]\n",
    "print(f'files = {files}')\n",
    "fpis = [FPI_Analysis(f) for f in files]\n",
    "\n",
    "merged_df = merge_all_dataframes(fpis)\n",
    "print(f'merged_df = \\n\\n{merged_df.to_string()}')\n",
    "CSV_FILE_TO_SAVE = 'data/fpi-data/merged_fpi_data.csv'\n",
    "save_df_to_csv(merged_df, CSV_FILE_TO_SAVE)\n",
    "print(f'File saved: {CSV_FILE_TO_SAVE}')\n",
    "\n"
   ]
  }
 ],
 "metadata": {
  "interpreter": {
   "hash": "bcd48d41fde0f35dc0abc5878b02d05fd876be7b411dba991a956d2a3c7e74c9"
  },
  "kernelspec": {
   "display_name": "Python 3.10.4 ('ve': venv)",
   "language": "python",
   "name": "python3"
  },
  "language_info": {
   "codemirror_mode": {
    "name": "ipython",
    "version": 3
   },
   "file_extension": ".py",
   "mimetype": "text/x-python",
   "name": "python",
   "nbconvert_exporter": "python",
   "pygments_lexer": "ipython3",
   "version": "3.10.4"
  },
  "orig_nbformat": 4
 },
 "nbformat": 4,
 "nbformat_minor": 2
}
